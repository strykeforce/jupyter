{
 "cells": [
  {
   "cell_type": "code",
   "execution_count": 1,
   "metadata": {},
   "outputs": [],
   "source": [
    "import pandas as pd\n",
    "import numpy as np\n",
    "import math\n",
    "import matplotlib.pyplot as plt\n",
    "%matplotlib inline"
   ]
  },
  {
   "cell_type": "markdown",
   "metadata": {},
   "source": [
    "# Camera Range Resolution\n",
    "Camera FOV data is from [elinux.org](https://elinux.org/Rpi_Camera_Module#Technical_Parameters_.28v.2_board.29). Note that there may be pixel cropping in certain modes."
   ]
  },
  {
   "cell_type": "code",
   "execution_count": 2,
   "metadata": {},
   "outputs": [],
   "source": [
    "pixels_h = 320\n",
    "pixels_v = 180\n",
    "fov_h = math.radians(62.2)\n",
    "fov_v = math.radians(58.8)\n",
    "height_t = 98.25\n",
    "h_cam = 28.0\n",
    "df = pd.DataFrame(data=np.arange(1, 648, 1),columns=['range'])"
   ]
  },
  {
   "cell_type": "markdown",
   "metadata": {},
   "source": [
    "Use frame to form a right triangle with adjacent side representing range to target ($r$), opposite side ($h_t$) height of target surface that subtends vertical FOV ($fov_h$).\n",
    "\n",
    "\n",
    "$\\tan{fov_v} = \\dfrac{h_t}{r}$\n",
    "\n",
    "Solving for $h_t$ and dividing by number of vertical pixels in frame gives target height per pixel ($h_p$).\n",
    "\n",
    "$h_p = \\frac{r\\tan{fov_v}}{pixels_v}$"
   ]
  },
  {
   "cell_type": "code",
   "execution_count": 3,
   "metadata": {},
   "outputs": [
    {
     "data": {
      "text/plain": [
       "Text(0, 0.5, 'Height per Pixel (in)')"
      ]
     },
     "execution_count": 3,
     "metadata": {},
     "output_type": "execute_result"
    },
    {
     "data": {
      "image/png": "[encoded data removed]",
      "text/plain": [
       "<Figure size 720x432 with 1 Axes>"
      ]
     },
     "metadata": {
      "needs_background": "light"
     },
     "output_type": "display_data"
    }
   ],
   "source": [
    "def pixel_height(r):\n",
    "    h_t = r * math.tan(fov_v)\n",
    "    return h_t / pixels_v\n",
    "\n",
    "df['pixel_height'] = df['range'].apply(pixel_height)\n",
    "\n",
    "df['pixel_height'].plot(figsize = [10, 6])\n",
    "plt.title(\"Target Height per Pixel\")\n",
    "plt.xlabel(\"Range (in)\")\n",
    "plt.ylabel(\"Height per Pixel (in)\")"
   ]
  },
  {
   "cell_type": "markdown",
   "metadata": {},
   "source": [
    "As a first approximation, assume measured angle is 45 deg. such that tan(45) = 1, then height increment per pixel is equivalent to range increment per pixel."
   ]
  },
  {
   "cell_type": "markdown",
   "metadata": {},
   "source": [
    "At 35 ft. height change per pixel is:"
   ]
  },
  {
   "cell_type": "code",
   "execution_count": 13,
   "metadata": {},
   "outputs": [
    {
     "name": "stdout",
     "output_type": "stream",
     "text": [
      "3.8527912720028117\n"
     ]
    }
   ],
   "source": [
    "r_nom = 35 * 12\n",
    "print(pixel_height(r_nom))\n",
    "tan = height_t / r_nom"
   ]
  },
  {
   "cell_type": "code",
   "execution_count": 15,
   "metadata": {},
   "outputs": [
    {
     "data": {
      "text/plain": [
       "16.46994742230214"
      ]
     },
     "execution_count": 15,
     "metadata": {},
     "output_type": "execute_result"
    }
   ],
   "source": [
    "r_err = ((height_t + pixel_height(r_nom)) / tan) - r_nom\n",
    "r_err"
   ]
  },
  {
   "cell_type": "code",
   "execution_count": 16,
   "metadata": {},
   "outputs": [
    {
     "data": {
      "text/plain": [
       "0.23392857142857143"
      ]
     },
     "execution_count": 16,
     "metadata": {},
     "output_type": "execute_result"
    }
   ],
   "source": [
    "tan"
   ]
  },
  {
   "cell_type": "code",
   "execution_count": null,
   "metadata": {},
   "outputs": [],
   "source": []
  }
 ],
 "metadata": {
  "kernelspec": {
   "display_name": "Python 3",
   "language": "python",
   "name": "python3"
  },
  "language_info": {
   "codemirror_mode": {
    "name": "ipython",
    "version": 3
   },
   "file_extension": ".py",
   "mimetype": "text/x-python",
   "name": "python",
   "nbconvert_exporter": "python",
   "pygments_lexer": "ipython3",
   "version": "3.7.2"
  }
 },
 "nbformat": 4,
 "nbformat_minor": 2
}
