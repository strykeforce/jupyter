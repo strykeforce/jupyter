{
 "cells": [
  {
   "cell_type": "markdown",
   "metadata": {},
   "source": [
    "![Stryke Force Logo](https://avatars3.githubusercontent.com/u/20849460?v=3&s=200)\n",
    "# HSV Color Space\n",
    "In computers, are most familiar with the Red, Green, Blue (RGB) descriptions of a color. This notebook briefly describes the Hue, Saturation, Value or [HSV color space](https://en.wikipedia.org/wiki/HSL_and_HSV).\n",
    "\n",
    "First, set up this notebook."
   ]
  },
  {
   "cell_type": "code",
   "execution_count": 1,
   "metadata": {
    "scrolled": true
   },
   "outputs": [],
   "source": [
    "%matplotlib inline\n",
    "import cv2\n",
    "from matplotlib import pyplot as plt\n",
    "import numpy as np\n",
    "plt.rcParams['image.cmap'] = 'gray'"
   ]
  },
  {
   "cell_type": "markdown",
   "metadata": {},
   "source": [
    "![HSV Color Space](https://upload.wikimedia.org/wikipedia/commons/thumb/a/a0/Hsl-hsv_models.svg/1000px-Hsl-hsv_models.svg.png)"
   ]
  },
  {
   "cell_type": "markdown",
   "metadata": {},
   "source": [
    "## HSV Color Swatches\n",
    "The examples below are colors specified in the HSV color space as `(Hue, Saturation, Value)`. The Hue values correspond to `0.5 * degrees` in the color circle (c) above."
   ]
  },
  {
   "cell_type": "code",
   "execution_count": 2,
   "metadata": {},
   "outputs": [
    {
     "data": {
      "image/png": "[encoded data removed]",
      "text/plain": [
       "<Figure size 432x288 with 3 Axes>"
      ]
     },
     "metadata": {
      "needs_background": "light"
     },
     "output_type": "display_data"
    }
   ],
   "source": [
    "black = (0, 0, 0)\n",
    "gray  = (0, 0, 128)\n",
    "white = (0, 0, 255)\n",
    "\n",
    "plt.subplot(1, 3, 1)\n",
    "plt.imshow(cv2.cvtColor(np.uint8([[black]*100]*100), cv2.COLOR_HSV2RGB))\n",
    "plt.subplot(1, 3, 2)\n",
    "plt.imshow(cv2.cvtColor(np.uint8([[gray]*100]*100), cv2.COLOR_HSV2RGB))\n",
    "plt.subplot(1, 3, 3)\n",
    "plt.imshow(cv2.cvtColor(np.uint8([[white]*100]*100), cv2.COLOR_HSV2RGB))\n",
    "plt.show()"
   ]
  },
  {
   "cell_type": "code",
   "execution_count": 3,
   "metadata": {
    "scrolled": true
   },
   "outputs": [
    {
     "data": {
      "image/png": "[encoded data removed]",
      "text/plain": [
       "<Figure size 432x288 with 3 Axes>"
      ]
     },
     "metadata": {
      "needs_background": "light"
     },
     "output_type": "display_data"
    }
   ],
   "source": [
    "dark_red = (0, 255, 100)\n",
    "red = (0, 255, 255)\n",
    "unsat_red = (0, 50, 255)\n",
    "\n",
    "plt.subplot(1, 3, 1)\n",
    "plt.imshow(cv2.cvtColor(np.uint8([[dark_red]*100]*100), cv2.COLOR_HSV2RGB))\n",
    "plt.subplot(1, 3, 2)\n",
    "plt.imshow(cv2.cvtColor(np.uint8([[red]*100]*100), cv2.COLOR_HSV2RGB))\n",
    "plt.subplot(1, 3, 3)\n",
    "plt.imshow(cv2.cvtColor(np.uint8([[unsat_red]*100]*100), cv2.COLOR_HSV2RGB))\n",
    "plt.show()"
   ]
  },
  {
   "cell_type": "code",
   "execution_count": 4,
   "metadata": {},
   "outputs": [
    {
     "data": {
      "image/png": "[encoded data removed]",
      "text/plain": [
       "<Figure size 432x288 with 3 Axes>"
      ]
     },
     "metadata": {
      "needs_background": "light"
     },
     "output_type": "display_data"
    }
   ],
   "source": [
    "dark_green = (60, 255, 100)\n",
    "green = (60, 255, 255)\n",
    "unsat_green = (60, 50, 255)\n",
    "\n",
    "plt.subplot(1, 3, 1)\n",
    "plt.imshow(cv2.cvtColor(np.uint8([[dark_green]*100]*100), cv2.COLOR_HSV2RGB))\n",
    "plt.subplot(1, 3, 2)\n",
    "plt.imshow(cv2.cvtColor(np.uint8([[green]*100]*100), cv2.COLOR_HSV2RGB))\n",
    "plt.subplot(1, 3, 3)\n",
    "plt.imshow(cv2.cvtColor(np.uint8([[unsat_green]*100]*100), cv2.COLOR_HSV2RGB))\n",
    "plt.show()"
   ]
  },
  {
   "cell_type": "code",
   "execution_count": 5,
   "metadata": {},
   "outputs": [
    {
     "data": {
      "image/png": "[encoded data removed]",
      "text/plain": [
       "<Figure size 432x288 with 3 Axes>"
      ]
     },
     "metadata": {
      "needs_background": "light"
     },
     "output_type": "display_data"
    }
   ],
   "source": [
    "dark_blue = (120, 255, 100)\n",
    "blue = (120, 255, 255)\n",
    "unsat_blue = (120, 50, 255)\n",
    "\n",
    "plt.subplot(1, 3, 1)\n",
    "plt.imshow(cv2.cvtColor(np.uint8([[dark_blue]*100]*100), cv2.COLOR_HSV2RGB))\n",
    "plt.subplot(1, 3, 2)\n",
    "plt.imshow(cv2.cvtColor(np.uint8([[blue]*100]*100), cv2.COLOR_HSV2RGB))\n",
    "plt.subplot(1, 3, 3)\n",
    "plt.imshow(cv2.cvtColor(np.uint8([[unsat_blue]*100]*100), cv2.COLOR_HSV2RGB))\n",
    "plt.show()"
   ]
  },
  {
   "cell_type": "code",
   "execution_count": 6,
   "metadata": {},
   "outputs": [
    {
     "data": {
      "image/png": "[encoded data removed]",
      "text/plain": [
       "<Figure size 432x288 with 3 Axes>"
      ]
     },
     "metadata": {
      "needs_background": "light"
     },
     "output_type": "display_data"
    }
   ],
   "source": [
    "dark_yellow = (30, 255, 100)\n",
    "yellow = (30, 255, 255)\n",
    "unsat_yellow = (30, 50, 255)\n",
    "\n",
    "plt.subplot(1, 3, 1)\n",
    "plt.imshow(cv2.cvtColor(np.uint8([[dark_yellow]*100]*100), cv2.COLOR_HSV2RGB))\n",
    "plt.subplot(1, 3, 2)\n",
    "plt.imshow(cv2.cvtColor(np.uint8([[yellow]*100]*100), cv2.COLOR_HSV2RGB))\n",
    "plt.subplot(1, 3, 3)\n",
    "plt.imshow(cv2.cvtColor(np.uint8([[unsat_yellow]*100]*100), cv2.COLOR_HSV2RGB))\n",
    "plt.show()"
   ]
  },
  {
   "cell_type": "code",
   "execution_count": 7,
   "metadata": {},
   "outputs": [
    {
     "data": {
      "image/png": "[encoded data removed]",
      "text/plain": [
       "<Figure size 432x288 with 3 Axes>"
      ]
     },
     "metadata": {
      "needs_background": "light"
     },
     "output_type": "display_data"
    }
   ],
   "source": [
    "dark_cyan = (90, 255, 100)\n",
    "cyan = (90, 255, 255)\n",
    "unsat_cyan = (90, 50, 255)\n",
    "\n",
    "plt.subplot(1, 3, 1)\n",
    "plt.imshow(cv2.cvtColor(np.uint8([[dark_cyan]*100]*100), cv2.COLOR_HSV2RGB))\n",
    "plt.subplot(1, 3, 2)\n",
    "plt.imshow(cv2.cvtColor(np.uint8([[cyan]*100]*100), cv2.COLOR_HSV2RGB))\n",
    "plt.subplot(1, 3, 3)\n",
    "plt.imshow(cv2.cvtColor(np.uint8([[unsat_cyan]*100]*100), cv2.COLOR_HSV2RGB))\n",
    "plt.show()"
   ]
  },
  {
   "cell_type": "code",
   "execution_count": 8,
   "metadata": {},
   "outputs": [
    {
     "data": {
      "image/png": "[encoded data removed]",
      "text/plain": [
       "<Figure size 432x288 with 3 Axes>"
      ]
     },
     "metadata": {
      "needs_background": "light"
     },
     "output_type": "display_data"
    }
   ],
   "source": [
    "dark_magenta = (150, 255, 100)\n",
    "magenta = (150, 255, 255)\n",
    "unsat_magenta = (150, 50, 255)\n",
    "\n",
    "plt.subplot(1, 3, 1)\n",
    "plt.imshow(cv2.cvtColor(np.uint8([[dark_magenta]*100]*100), cv2.COLOR_HSV2RGB))\n",
    "plt.subplot(1, 3, 2)\n",
    "plt.imshow(cv2.cvtColor(np.uint8([[magenta]*100]*100), cv2.COLOR_HSV2RGB))\n",
    "plt.subplot(1, 3, 3)\n",
    "plt.imshow(cv2.cvtColor(np.uint8([[unsat_magenta]*100]*100), cv2.COLOR_HSV2RGB))\n",
    "plt.show()"
   ]
  },
  {
   "cell_type": "code",
   "execution_count": null,
   "metadata": {
    "collapsed": true
   },
   "outputs": [],
   "source": []
  }
 ],
 "metadata": {
  "kernelspec": {
   "display_name": "Python 3",
   "language": "python",
   "name": "python3"
  },
  "language_info": {
   "codemirror_mode": {
    "name": "ipython",
    "version": 3
   },
   "file_extension": ".py",
   "mimetype": "text/x-python",
   "name": "python",
   "nbconvert_exporter": "python",
   "pygments_lexer": "ipython3",
   "version": "3.6.5"
  }
 },
 "nbformat": 4,
 "nbformat_minor": 1
}
