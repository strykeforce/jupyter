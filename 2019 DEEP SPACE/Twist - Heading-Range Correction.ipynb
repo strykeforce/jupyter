{
 "cells": [
  {
   "cell_type": "code",
   "execution_count": 169,
   "metadata": {},
   "outputs": [],
   "source": [
    "import matplotlib.pyplot as plt\n",
    "import pandas as pd\n",
    "import math as m\n",
    "import numpy as np"
   ]
  },
  {
   "cell_type": "code",
   "execution_count": 170,
   "metadata": {},
   "outputs": [],
   "source": [
    "#Input Variables\n",
    "\n",
    "#Camera Position\n",
    "camX = 0.0\n",
    "camY = -5.0\n",
    "camAngle = -90.0\n",
    "\n",
    "#Robot Position\n",
    "yaw = -40.0\n",
    "targetYaw = 0.0\n",
    "w = 10.0\n",
    "l = 10.0\n",
    "\n",
    "#Pyeye Outputs\n",
    "bearing = -10.0\n",
    "dist = 15.0"
   ]
  },
  {
   "cell_type": "code",
   "execution_count": 171,
   "metadata": {},
   "outputs": [],
   "source": [
    "#Calculate Change in Cam position with YAW\n",
    "\n",
    "#Current Posiiton (swerve coords)\n",
    "x_cur = camX * m.cos(m.radians(yaw)) - camY * m.sin(m.radians(yaw))\n",
    "y_cur = camY * m.cos(m.radians(yaw)) + camX * m.sin(m.radians(yaw))\n",
    "\n",
    "#Final Position (swerve coords)\n",
    "x_final = camX * m.cos(m.radians(targetYaw)) - camY * m.sin(m.radians(targetYaw))\n",
    "y_final = camY * m.cos(m.radians(targetYaw)) + camX * m.sin(m.radians(targetYaw))\n",
    "\n",
    "#Change in Position\n",
    "dX = x_final - x_cur\n",
    "dY = y_final - y_cur"
   ]
  },
  {
   "cell_type": "code",
   "execution_count": 172,
   "metadata": {},
   "outputs": [],
   "source": [
    "#Calculate Final Heading\n",
    "\n",
    "#Heading direct from pyeye\n",
    "heading_init = bearing + yaw + camAngle\n",
    "x_init = dist * m.cos(m.radians(heading_init))\n",
    "y_init = dist * m.sin(m.radians(heading_init))\n",
    "\n",
    "#Heading with correction\n",
    "x_corr = x_init - dX\n",
    "y_corr = y_init - dY\n",
    "heading_final = m.degrees(m.atan2(y_corr , x_corr))\n",
    "range_final = m.sqrt(x_corr**2 + y_corr**2)"
   ]
  },
  {
   "cell_type": "code",
   "execution_count": 173,
   "metadata": {},
   "outputs": [],
   "source": [
    "#Calculate Points needed for Graph\n",
    "\n",
    "#Wheel Positions Initial [0,1,3,2,0]\n",
    "wx_init = np.array([l/2 * m.cos(m.radians(yaw)) + w/2 * m.sin(m.radians(yaw)), \n",
    "                   l/2 * m.cos(m.radians(yaw)) - w/2 * m.sin(m.radians(yaw)),\n",
    "                  -l/2 * m.cos(m.radians(yaw)) - w/2 * m.sin(m.radians(yaw)),\n",
    "                  -l/2 * m.cos(m.radians(yaw)) + w/2 * m.sin(m.radians(yaw)),\n",
    "                   l/2 * m.cos(m.radians(yaw)) + w/2 * m.sin(m.radians(yaw))])\n",
    "wy_init = np.array([-w/2 * m.cos(m.radians(yaw)) + l/2 * m.sin(m.radians(yaw)),\n",
    "                    w/2 * m.cos(m.radians(yaw)) + l/2 * m.sin(m.radians(yaw)),\n",
    "                    w/2 * m.cos(m.radians(yaw)) - l/2 * m.sin(m.radians(yaw)),\n",
    "                   -w/2 * m.cos(m.radians(yaw)) - l/2 * m.sin(m.radians(yaw)),\n",
    "                   -w/2 * m.cos(m.radians(yaw)) + l/2 * m.sin(m.radians(yaw))])\n",
    "\n",
    "#Wheel Positions Final [0,1,3,2,0]\n",
    "wx_final = wx_init * m.cos(m.radians(targetYaw - yaw)) - wy_init * m.sin(m.radians(targetYaw - yaw)) + x_corr\n",
    "wy_final = wy_init * m.cos(m.radians(targetYaw - yaw)) + wx_init * m.sin(m.radians(targetYaw - yaw)) + y_corr\n",
    "\n",
    "#Wheel Positions No Correction [0,1,3,2,0]\n",
    "wx_final_2 = wx_init * m.cos(m.radians(targetYaw - yaw)) - wy_init * m.sin(m.radians(targetYaw - yaw)) + x_init\n",
    "wy_final_2 = wy_init * m.cos(m.radians(targetYaw - yaw)) + wx_init * m.sin(m.radians(targetYaw - yaw)) + y_init\n",
    "\n",
    "#Target Position\n",
    "xcam = dist * m.cos(m.radians(bearing))\n",
    "ycam = dist * m.sin(m.radians(bearing))\n",
    "xrobot = xcam * m.cos(m.radians(camAngle)) - ycam * m.sin(m.radians(camAngle)) + camX\n",
    "yrobot = ycam * m.cos(m.radians(camAngle)) + xcam * m.sin(m.radians(camAngle)) + camY\n",
    "xswerve = xrobot * m.cos(m.radians(yaw)) - yrobot * m.sin(m.radians(yaw))\n",
    "yswerve = yrobot * m.cos(m.radians(yaw)) + xrobot * m.sin(m.radians(yaw))\n",
    "\n",
    "\n",
    "#Lines for Headings, start @ camera current position (x_cur, y_cur)\n",
    "\n",
    "#With Heading correction - end point\n",
    "cx_final = x_cur + x_corr\n",
    "cy_final = y_cur + y_corr\n",
    "\n",
    "#Without Heading correction - end point\n",
    "cx_final_2 = x_cur + x_init\n",
    "cy_final_2 = y_cur + y_init"
   ]
  },
  {
   "cell_type": "code",
   "execution_count": 174,
   "metadata": {},
   "outputs": [
    {
     "name": "stdout",
     "output_type": "stream",
     "text": [
      "Final Heading: -150.05\n",
      "Final Range: 16.97\n"
     ]
    },
    {
     "data": {
      "image/png": "[encoded data removed]",
      "text/plain": [
       "<Figure size 576x576 with 1 Axes>"
      ]
     },
     "metadata": {
      "needs_background": "light"
     },
     "output_type": "display_data"
    }
   ],
   "source": [
    "#Plot Results\n",
    "plt.figure(figsize=(8,8))\n",
    "\n",
    "#Wheels\n",
    "plt.plot(wy_init, wx_init, 'r', label='wheels_init')\n",
    "plt.plot(wy_final,wx_final, 'b', label='wheels_final')\n",
    "plt.plot(wy_final_2, wx_final_2, 'c', label='wheels_original heading')\n",
    "\n",
    "#Target\n",
    "plt.scatter(yswerve, xswerve, color='g', s = 100, label='target')\n",
    "\n",
    "#Headings\n",
    "plt.plot([y_cur, cy_final], [x_cur, cx_final], 'b:', label='corrected heading')\n",
    "plt.plot([y_cur, cy_final_2], [x_cur, cx_final_2], 'c:', label='original heading')\n",
    "\n",
    "plt.legend()\n",
    "plt.axis('square')\n",
    "\n",
    "print(f'Final Heading: {heading_final:.2f}')\n",
    "print(f'Final Range: {range_final:.2f}')"
   ]
  },
  {
   "cell_type": "code",
   "execution_count": null,
   "metadata": {},
   "outputs": [],
   "source": []
  }
 ],
 "metadata": {
  "kernelspec": {
   "display_name": "Python 3",
   "language": "python",
   "name": "python3"
  },
  "language_info": {
   "codemirror_mode": {
    "name": "ipython",
    "version": 3
   },
   "file_extension": ".py",
   "mimetype": "text/x-python",
   "name": "python",
   "nbconvert_exporter": "python",
   "pygments_lexer": "ipython3",
   "version": "3.7.2"
  }
 },
 "nbformat": 4,
 "nbformat_minor": 2
}
