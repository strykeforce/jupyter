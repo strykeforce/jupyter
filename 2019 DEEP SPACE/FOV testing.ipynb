{
 "cells": [
  {
   "cell_type": "markdown",
   "metadata": {},
   "source": [
    "# Calculating camera frame of view"
   ]
  },
  {
   "cell_type": "code",
   "execution_count": 2,
   "metadata": {},
   "outputs": [],
   "source": [
    "import math\n",
    "\n",
    "distance = 27       # distance from camera to ruler\n",
    "left_mark = 0       # left limit of vision\n",
    "right_mark = 24.875 # right limit of vision"
   ]
  },
  {
   "cell_type": "code",
   "execution_count": 4,
   "metadata": {},
   "outputs": [
    {
     "name": "stdout",
     "output_type": "stream",
     "text": [
      "horizontal FOV = 49.4661463811035 degress\n"
     ]
    }
   ],
   "source": [
    "frame_length_in = right_mark - left_mark\n",
    "ratio = (frame_length_in / 2) / distance\n",
    "half_angle_rad = math.atan(ratio)\n",
    "full_angle_rad = half_angle_rad * 2\n",
    "\n",
    "angle_deg = full_angle_rad / (2 * math.pi) * 360\n",
    "\n",
    "print(\"horizontal FOV = {} degress\".format(angle_deg))"
   ]
  },
  {
   "cell_type": "markdown",
   "metadata": {},
   "source": [
    "## FOV verification using string\n",
    "\n",
    "We attached string from the camera to the ruler at the left and right horizonal marks. Measuring this angle with our digital protractor yielded the same result as above.\n",
    "\n",
    "![fov screenshot](images/fov_string.png)\n",
    "\n",
    "This is the view from the camera, you can see the tape holding the string.\n",
    "\n",
    "![fov screenshot](images/fov_screen.png)"
   ]
  },
  {
   "cell_type": "code",
   "execution_count": null,
   "metadata": {},
   "outputs": [],
   "source": []
  }
 ],
 "metadata": {
  "kernelspec": {
   "display_name": "Python 3",
   "language": "python",
   "name": "python3"
  },
  "language_info": {
   "codemirror_mode": {
    "name": "ipython",
    "version": 3
   },
   "file_extension": ".py",
   "mimetype": "text/x-python",
   "name": "python",
   "nbconvert_exporter": "python",
   "pygments_lexer": "ipython3",
   "version": "3.7.2"
  }
 },
 "nbformat": 4,
 "nbformat_minor": 2
}
