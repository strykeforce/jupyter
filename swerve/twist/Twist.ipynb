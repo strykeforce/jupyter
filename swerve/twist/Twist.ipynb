{
 "cells": [
  {
   "cell_type": "code",
   "execution_count": 5,
   "metadata": {},
   "outputs": [],
   "source": [
    "import psycopg2 as pg\n",
    "import pandas as pd\n",
    "import plotly\n",
    "import plotly.graph_objs as go\n",
    "import plotly.tools as tls"
   ]
  },
  {
   "cell_type": "code",
   "execution_count": 6,
   "metadata": {},
   "outputs": [],
   "source": [
    "connection = pg.connect(\"dbname=keeper user=jeff\")"
   ]
  },
  {
   "cell_type": "code",
   "execution_count": 7,
   "metadata": {},
   "outputs": [],
   "source": [
    "trace_df = pd.read_sql(\"select * from action_trace where action_id = 409\", con=connection)\n",
    "twist_df = trace_df.pivot(index='millis', columns='measure', values='value')\n",
    "if twist_df.actual_vel.mean() < 0:\n",
    "    twist_df.actual_vel = twist_df.actual_vel * -1\n",
    "twist_df.setpoint_vel = twist_df.setpoint_vel / 10.0\n",
    "twist_df.profile_vel = twist_df.profile_vel / 10.0\n",
    "twist_df['ticks_error'] = twist_df.actual_ticks - twist_df.profile_ticks"
   ]
  },
  {
   "cell_type": "code",
   "execution_count": 30,
   "metadata": {},
   "outputs": [
    {
     "data": {
      "application/vnd.jupyter.widget-view+json": {
       "model_id": "d0291455586d40e6a06af87b27f0d22d",
       "version_major": 2,
       "version_minor": 0
      },
      "text/plain": [
       "FigureWidget({\n",
       "    'data': [{'name': 'profile',\n",
       "              'type': 'scatter',\n",
       "              'uid': '81ff50e…"
      ]
     },
     "metadata": {},
     "output_type": "display_data"
    }
   ],
   "source": [
    "layout1={'title': 'Velocity',\n",
    "        'xaxis': {'title': 'milliseconds'},\n",
    "        'yaxis': {'title': 'ticks/100ms'},\n",
    "        'yaxis2': {'title': 'amps', 'side': 'right', 'overlaying': 'y'},\n",
    "        'height': 600\n",
    "       }\n",
    "f1 = go.FigureWidget(layout=layout1)\n",
    "f1.add_trace(go.Scatter(name='profile', x=twist_df.index, y=twist_df.profile_vel))\n",
    "f1.add_trace(go.Scatter(name='setpoint',x=twist_df.index, y=twist_df.setpoint_vel))\n",
    "f1.add_trace(go.Scatter(name='actual',x=twist_df.index, y=twist_df.actual_vel))\n",
    "f1.add_trace(go.Scatter(name='current',x=twist_df.index, y=twist_df.drive_current, line={'color': 'rgba(22, 12, 204, 0.1)'}, yaxis='y2'))\n",
    "f1"
   ]
  },
  {
   "cell_type": "code",
   "execution_count": 32,
   "metadata": {},
   "outputs": [
    {
     "data": {
      "application/vnd.jupyter.widget-view+json": {
       "model_id": "09475b9e97fc4453a69e573dd4452de0",
       "version_major": 2,
       "version_minor": 0
      },
      "text/plain": [
       "FigureWidget({\n",
       "    'data': [{'name': 'distance',\n",
       "              'type': 'scatter',\n",
       "              'uid': '3a9d16…"
      ]
     },
     "metadata": {},
     "output_type": "display_data"
    }
   ],
   "source": [
    "layout2={'title': 'Distance Error and Gyro Angle',\n",
    "        'xaxis': {'title': 'milliseconds'},\n",
    "        'yaxis': {'title': 'ticks'},\n",
    "        'yaxis2': {'title': 'degrees', 'side': 'right', 'overlaying': 'y'},\n",
    "         'height': 600\n",
    "       }\n",
    "f2 = go.FigureWidget(layout=layout2)\n",
    "f2.add_trace(go.Scatter(name='distance', x=twist_df.index, y=twist_df.ticks_error))\n",
    "f2.add_trace(go.Scatter(name='gyro',x=twist_df.index, y=twist_df.gyro_angle, line={'color': 'rgba(204, 12, 22, 1)'}, yaxis='y2'))\n",
    "f2"
   ]
  },
  {
   "cell_type": "code",
   "execution_count": null,
   "metadata": {},
   "outputs": [],
   "source": []
  }
 ],
 "metadata": {
  "kernelspec": {
   "display_name": "Python 3",
   "language": "python",
   "name": "python3"
  },
  "language_info": {
   "codemirror_mode": {
    "name": "ipython",
    "version": 3
   },
   "file_extension": ".py",
   "mimetype": "text/x-python",
   "name": "python",
   "nbconvert_exporter": "python",
   "pygments_lexer": "ipython3",
   "version": "3.7.2"
  }
 },
 "nbformat": 4,
 "nbformat_minor": 2
}
