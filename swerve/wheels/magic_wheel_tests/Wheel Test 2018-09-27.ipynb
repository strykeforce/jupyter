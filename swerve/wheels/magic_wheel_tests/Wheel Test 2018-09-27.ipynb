{
 "cells": [
  {
   "cell_type": "markdown",
   "metadata": {},
   "source": [
    "# Wheel Test 2018-09-27\n",
    "Testing new magic wheels on Jif."
   ]
  },
  {
   "cell_type": "code",
   "execution_count": 1,
   "metadata": {},
   "outputs": [],
   "source": [
    "%matplotlib inline\n",
    "import pandas as pd"
   ]
  },
  {
   "cell_type": "code",
   "execution_count": 2,
   "metadata": {},
   "outputs": [],
   "source": [
    "date = '2018-09-27'\n",
    "activity_meta = pd.read_pickle(\"data/meta-%s.pkl.gz\" % date)\n",
    "activity_data = pd.read_pickle(\"data/data-%s.pkl.gz\" % date)"
   ]
  },
  {
   "cell_type": "markdown",
   "metadata": {},
   "source": [
    "## TPI Grouped by Direction\n",
    "Select and pivot summary data for an activity."
   ]
  },
  {
   "cell_type": "code",
   "execution_count": 3,
   "metadata": {},
   "outputs": [
    {
     "data": {
      "text/html": [
       "<div>\n",
       "<style scoped>\n",
       "    .dataframe tbody tr th:only-of-type {\n",
       "        vertical-align: middle;\n",
       "    }\n",
       "\n",
       "    .dataframe tbody tr th {\n",
       "        vertical-align: top;\n",
       "    }\n",
       "\n",
       "    .dataframe thead tr th {\n",
       "        text-align: left;\n",
       "    }\n",
       "\n",
       "    .dataframe thead tr:last-of-type th {\n",
       "        text-align: right;\n",
       "    }\n",
       "</style>\n",
       "<table border=\"1\" class=\"dataframe\">\n",
       "  <thead>\n",
       "    <tr>\n",
       "      <th></th>\n",
       "      <th colspan=\"8\" halign=\"left\">actual_distance</th>\n",
       "      <th colspan=\"8\" halign=\"left\">tpi</th>\n",
       "    </tr>\n",
       "    <tr>\n",
       "      <th></th>\n",
       "      <th>count</th>\n",
       "      <th>mean</th>\n",
       "      <th>std</th>\n",
       "      <th>min</th>\n",
       "      <th>25%</th>\n",
       "      <th>50%</th>\n",
       "      <th>75%</th>\n",
       "      <th>max</th>\n",
       "      <th>count</th>\n",
       "      <th>mean</th>\n",
       "      <th>std</th>\n",
       "      <th>min</th>\n",
       "      <th>25%</th>\n",
       "      <th>50%</th>\n",
       "      <th>75%</th>\n",
       "      <th>max</th>\n",
       "    </tr>\n",
       "    <tr>\n",
       "      <th>direction</th>\n",
       "      <th></th>\n",
       "      <th></th>\n",
       "      <th></th>\n",
       "      <th></th>\n",
       "      <th></th>\n",
       "      <th></th>\n",
       "      <th></th>\n",
       "      <th></th>\n",
       "      <th></th>\n",
       "      <th></th>\n",
       "      <th></th>\n",
       "      <th></th>\n",
       "      <th></th>\n",
       "      <th></th>\n",
       "      <th></th>\n",
       "      <th></th>\n",
       "    </tr>\n",
       "  </thead>\n",
       "  <tbody>\n",
       "    <tr>\n",
       "      <th>-90.0</th>\n",
       "      <td>10.0</td>\n",
       "      <td>130.3</td>\n",
       "      <td>0.6</td>\n",
       "      <td>129.5</td>\n",
       "      <td>129.9</td>\n",
       "      <td>130.1</td>\n",
       "      <td>130.8</td>\n",
       "      <td>131.2</td>\n",
       "      <td>10.0</td>\n",
       "      <td>1922.8</td>\n",
       "      <td>9.2</td>\n",
       "      <td>1908.2</td>\n",
       "      <td>1915.8</td>\n",
       "      <td>1925.2</td>\n",
       "      <td>1926.8</td>\n",
       "      <td>1937.9</td>\n",
       "    </tr>\n",
       "    <tr>\n",
       "      <th>0.0</th>\n",
       "      <td>10.0</td>\n",
       "      <td>127.2</td>\n",
       "      <td>1.7</td>\n",
       "      <td>125.4</td>\n",
       "      <td>126.2</td>\n",
       "      <td>126.8</td>\n",
       "      <td>128.4</td>\n",
       "      <td>130.5</td>\n",
       "      <td>10.0</td>\n",
       "      <td>1977.4</td>\n",
       "      <td>19.6</td>\n",
       "      <td>1940.7</td>\n",
       "      <td>1966.5</td>\n",
       "      <td>1986.2</td>\n",
       "      <td>1989.2</td>\n",
       "      <td>1998.1</td>\n",
       "    </tr>\n",
       "    <tr>\n",
       "      <th>180.0</th>\n",
       "      <td>10.0</td>\n",
       "      <td>131.4</td>\n",
       "      <td>0.5</td>\n",
       "      <td>130.6</td>\n",
       "      <td>131.1</td>\n",
       "      <td>131.4</td>\n",
       "      <td>131.8</td>\n",
       "      <td>132.1</td>\n",
       "      <td>10.0</td>\n",
       "      <td>1907.1</td>\n",
       "      <td>6.8</td>\n",
       "      <td>1900.6</td>\n",
       "      <td>1901.7</td>\n",
       "      <td>1905.0</td>\n",
       "      <td>1913.1</td>\n",
       "      <td>1918.7</td>\n",
       "    </tr>\n",
       "    <tr>\n",
       "      <th>90.0</th>\n",
       "      <td>10.0</td>\n",
       "      <td>129.0</td>\n",
       "      <td>0.5</td>\n",
       "      <td>128.2</td>\n",
       "      <td>128.7</td>\n",
       "      <td>129.2</td>\n",
       "      <td>129.4</td>\n",
       "      <td>129.8</td>\n",
       "      <td>10.0</td>\n",
       "      <td>1947.2</td>\n",
       "      <td>4.6</td>\n",
       "      <td>1937.5</td>\n",
       "      <td>1944.6</td>\n",
       "      <td>1947.6</td>\n",
       "      <td>1950.8</td>\n",
       "      <td>1952.7</td>\n",
       "    </tr>\n",
       "  </tbody>\n",
       "</table>\n",
       "</div>"
      ],
      "text/plain": [
       "          actual_distance                                                 \\\n",
       "                    count   mean  std    min    25%    50%    75%    max   \n",
       "direction                                                                  \n",
       "-90.0                10.0  130.3  0.6  129.5  129.9  130.1  130.8  131.2   \n",
       "0.0                  10.0  127.2  1.7  125.4  126.2  126.8  128.4  130.5   \n",
       "180.0                10.0  131.4  0.5  130.6  131.1  131.4  131.8  132.1   \n",
       "90.0                 10.0  129.0  0.5  128.2  128.7  129.2  129.4  129.8   \n",
       "\n",
       "            tpi                                                        \n",
       "          count    mean   std     min     25%     50%     75%     max  \n",
       "direction                                                              \n",
       "-90.0      10.0  1922.8   9.2  1908.2  1915.8  1925.2  1926.8  1937.9  \n",
       "0.0        10.0  1977.4  19.6  1940.7  1966.5  1986.2  1989.2  1998.1  \n",
       "180.0      10.0  1907.1   6.8  1900.6  1901.7  1905.0  1913.1  1918.7  \n",
       "90.0       10.0  1947.2   4.6  1937.5  1944.6  1947.6  1950.8  1952.7  "
      ]
     },
     "execution_count": 3,
     "metadata": {},
     "output_type": "execute_result"
    }
   ],
   "source": [
    "pivot = activity_data.pivot(index='id', columns='measure', values='value')\n",
    "activity = pd.merge(activity_meta, pivot, on='id')\n",
    "activity['tpi'] = activity['actual_ticks'] / activity['actual_distance']\n",
    "activity[['direction','actual_distance', 'tpi']].groupby('direction').describe().round(1)"
   ]
  },
  {
   "cell_type": "code",
   "execution_count": 4,
   "metadata": {},
   "outputs": [
    {
     "data": {
      "text/plain": [
       "<matplotlib.axes._subplots.AxesSubplot at 0x11ce43cc0>"
      ]
     },
     "execution_count": 4,
     "metadata": {},
     "output_type": "execute_result"
    },
    {
     "data": {
      "image/png": "[encoded data removed]",
      "text/plain": [
       "<Figure size 792x576 with 1 Axes>"
      ]
     },
     "metadata": {
      "needs_background": "light"
     },
     "output_type": "display_data"
    }
   ],
   "source": [
    "activity.boxplot(column='tpi', by=['name', 'direction'], rot=15, figsize=(11, 8))"
   ]
  },
  {
   "cell_type": "markdown",
   "metadata": {},
   "source": [
    "## TPI Estimated Error by Direction\n",
    "A resonable choice for nominal TPI is either *forward* TPI or TPI *grand mean*. We'll assume the TPI nominal value is the grand mean of all TPI measurements.\n",
    "\n",
    "\\begin{equation*}\n",
    "error_{TPI} =  \\frac{TPI_{experimental} - TPI_{nominal}}{TPI_{nominal}} \\times 100\\%\n",
    "\\end{equation*}\n",
    "\n",
    "A positive error is more ticks per inch (conversely fewer inches per tick), therefore the robot travels less distance with postive error. The `100 in.` column below is how far we'd expect the robot to travel if we converted 100 in to ticks using the forward (0.0) TPI as our benchmark."
   ]
  },
  {
   "cell_type": "code",
   "execution_count": 5,
   "metadata": {},
   "outputs": [
    {
     "data": {
      "text/html": [
       "<div>\n",
       "<style scoped>\n",
       "    .dataframe tbody tr th:only-of-type {\n",
       "        vertical-align: middle;\n",
       "    }\n",
       "\n",
       "    .dataframe tbody tr th {\n",
       "        vertical-align: top;\n",
       "    }\n",
       "\n",
       "    .dataframe thead th {\n",
       "        text-align: right;\n",
       "    }\n",
       "</style>\n",
       "<table border=\"1\" class=\"dataframe\">\n",
       "  <thead>\n",
       "    <tr style=\"text-align: right;\">\n",
       "      <th></th>\n",
       "      <th>tpi</th>\n",
       "      <th>error</th>\n",
       "      <th>error (%)</th>\n",
       "      <th>100 in.</th>\n",
       "    </tr>\n",
       "    <tr>\n",
       "      <th>direction</th>\n",
       "      <th></th>\n",
       "      <th></th>\n",
       "      <th></th>\n",
       "      <th></th>\n",
       "    </tr>\n",
       "  </thead>\n",
       "  <tbody>\n",
       "    <tr>\n",
       "      <th>-90.0</th>\n",
       "      <td>1922.8</td>\n",
       "      <td>-0.008</td>\n",
       "      <td>-0.82%</td>\n",
       "      <td>102.84</td>\n",
       "    </tr>\n",
       "    <tr>\n",
       "      <th>0.0</th>\n",
       "      <td>1977.4</td>\n",
       "      <td>0.020</td>\n",
       "      <td>2.00%</td>\n",
       "      <td>100.00</td>\n",
       "    </tr>\n",
       "    <tr>\n",
       "      <th>180.0</th>\n",
       "      <td>1907.1</td>\n",
       "      <td>-0.016</td>\n",
       "      <td>-1.63%</td>\n",
       "      <td>103.69</td>\n",
       "    </tr>\n",
       "    <tr>\n",
       "      <th>90.0</th>\n",
       "      <td>1947.2</td>\n",
       "      <td>0.004</td>\n",
       "      <td>0.44%</td>\n",
       "      <td>101.55</td>\n",
       "    </tr>\n",
       "  </tbody>\n",
       "</table>\n",
       "</div>"
      ],
      "text/plain": [
       "              tpi  error error (%)  100 in.\n",
       "direction                                  \n",
       "-90.0      1922.8 -0.008    -0.82%   102.84\n",
       "0.0        1977.4  0.020     2.00%   100.00\n",
       "180.0      1907.1 -0.016    -1.63%   103.69\n",
       "90.0       1947.2  0.004     0.44%   101.55"
      ]
     },
     "execution_count": 5,
     "metadata": {},
     "output_type": "execute_result"
    }
   ],
   "source": [
    "tpi_grand_mean = activity['tpi'].mean()\n",
    "tpi_error = activity[['direction', 'tpi']].groupby('direction').mean()\n",
    "tpi_error['error'] = (tpi_error['tpi'] - tpi_grand_mean) / tpi_grand_mean\n",
    "tpi_error['error (%)'] = pd.Series([\"{0:.2f}%\".format(val * 100) for val in tpi_error['error']], index = tpi_error.index)\n",
    "\n",
    "ticks_100_in = tpi_error.loc['0.0','tpi'] * 100 # ticks to travel 100in using 0.0 TPI\n",
    "tpi_error['100 in.'] = ticks_100_in / tpi_error['tpi']\n",
    "tpi_error = tpi_error.round({'tpi':1, 'error': 3, '100 in.': 2})\n",
    "tpi_error"
   ]
  },
  {
   "cell_type": "markdown",
   "metadata": {},
   "source": [
    "## Notes\n",
    "\n",
    "The data for `activity_meta` can be reconstructed from the datebase with this query:\n",
    "    \n",
    "```sql\n",
    "SELECT id, name, timestamp, meta->'direction' AS direction\n",
    "FROM tc_activity\n",
    "WHERE timestamp::date = date '2018-09-27' AND data[3] <> 0\n",
    "```\n",
    "\n",
    "The data for `activity_data` can be reconstructed from the datebase with this query:\n",
    "\n",
    "```sql\n",
    "SELECT id, name, timestamp, measure, value\n",
    "FROM tc_activity, unnest(activity_measures, data) AS u(measure, value)\n",
    "WHERE timestamp::date = date '2018-09-27' AND data[3] <> 0\n",
    "```"
   ]
  }
 ],
 "metadata": {
  "kernelspec": {
   "display_name": "Python 3",
   "language": "python",
   "name": "python3"
  },
  "language_info": {
   "codemirror_mode": {
    "name": "ipython",
    "version": 3
   },
   "file_extension": ".py",
   "mimetype": "text/x-python",
   "name": "python",
   "nbconvert_exporter": "python",
   "pygments_lexer": "ipython3",
   "version": "3.7.1"
  }
 },
 "nbformat": 4,
 "nbformat_minor": 2
}
