{
 "cells": [
  {
   "cell_type": "markdown",
   "metadata": {},
   "source": [
    "# Wheel Test 2018-10-02\n",
    "Testing rev 3 wheels - printed on Jif."
   ]
  },
  {
   "cell_type": "code",
   "execution_count": 1,
   "metadata": {},
   "outputs": [],
   "source": [
    "%matplotlib inline\n",
    "import pandas as pd"
   ]
  },
  {
   "cell_type": "code",
   "execution_count": 2,
   "metadata": {},
   "outputs": [],
   "source": [
    "date = '2018-10-02'\n",
    "activity_meta = pd.read_pickle(\"data/meta-%s.pkl.gz\" % date)\n",
    "activity_data = pd.read_pickle(\"data/data-%s.pkl.gz\" % date)"
   ]
  },
  {
   "cell_type": "markdown",
   "metadata": {},
   "source": [
    "## TPI Grouped by Direction\n",
    "Select and pivot summary data for an activity."
   ]
  },
  {
   "cell_type": "code",
   "execution_count": 3,
   "metadata": {},
   "outputs": [
    {
     "data": {
      "text/html": [
       "<div>\n",
       "<style scoped>\n",
       "    .dataframe tbody tr th:only-of-type {\n",
       "        vertical-align: middle;\n",
       "    }\n",
       "\n",
       "    .dataframe tbody tr th {\n",
       "        vertical-align: top;\n",
       "    }\n",
       "\n",
       "    .dataframe thead tr th {\n",
       "        text-align: left;\n",
       "    }\n",
       "\n",
       "    .dataframe thead tr:last-of-type th {\n",
       "        text-align: right;\n",
       "    }\n",
       "</style>\n",
       "<table border=\"1\" class=\"dataframe\">\n",
       "  <thead>\n",
       "    <tr>\n",
       "      <th></th>\n",
       "      <th colspan=\"8\" halign=\"left\">actual_distance</th>\n",
       "      <th colspan=\"8\" halign=\"left\">tpi</th>\n",
       "    </tr>\n",
       "    <tr>\n",
       "      <th></th>\n",
       "      <th>count</th>\n",
       "      <th>mean</th>\n",
       "      <th>std</th>\n",
       "      <th>min</th>\n",
       "      <th>25%</th>\n",
       "      <th>50%</th>\n",
       "      <th>75%</th>\n",
       "      <th>max</th>\n",
       "      <th>count</th>\n",
       "      <th>mean</th>\n",
       "      <th>std</th>\n",
       "      <th>min</th>\n",
       "      <th>25%</th>\n",
       "      <th>50%</th>\n",
       "      <th>75%</th>\n",
       "      <th>max</th>\n",
       "    </tr>\n",
       "    <tr>\n",
       "      <th>direction</th>\n",
       "      <th></th>\n",
       "      <th></th>\n",
       "      <th></th>\n",
       "      <th></th>\n",
       "      <th></th>\n",
       "      <th></th>\n",
       "      <th></th>\n",
       "      <th></th>\n",
       "      <th></th>\n",
       "      <th></th>\n",
       "      <th></th>\n",
       "      <th></th>\n",
       "      <th></th>\n",
       "      <th></th>\n",
       "      <th></th>\n",
       "      <th></th>\n",
       "    </tr>\n",
       "  </thead>\n",
       "  <tbody>\n",
       "    <tr>\n",
       "      <th>-90.0</th>\n",
       "      <td>10.0</td>\n",
       "      <td>134.0</td>\n",
       "      <td>0.3</td>\n",
       "      <td>133.6</td>\n",
       "      <td>133.9</td>\n",
       "      <td>134.0</td>\n",
       "      <td>134.1</td>\n",
       "      <td>134.8</td>\n",
       "      <td>10.0</td>\n",
       "      <td>1868.5</td>\n",
       "      <td>5.8</td>\n",
       "      <td>1861.4</td>\n",
       "      <td>1864.3</td>\n",
       "      <td>1867.7</td>\n",
       "      <td>1873.5</td>\n",
       "      <td>1877.2</td>\n",
       "    </tr>\n",
       "    <tr>\n",
       "      <th>0.0</th>\n",
       "      <td>10.0</td>\n",
       "      <td>128.8</td>\n",
       "      <td>1.0</td>\n",
       "      <td>127.2</td>\n",
       "      <td>128.0</td>\n",
       "      <td>129.2</td>\n",
       "      <td>129.5</td>\n",
       "      <td>130.0</td>\n",
       "      <td>10.0</td>\n",
       "      <td>1944.6</td>\n",
       "      <td>12.1</td>\n",
       "      <td>1930.0</td>\n",
       "      <td>1935.3</td>\n",
       "      <td>1940.7</td>\n",
       "      <td>1954.9</td>\n",
       "      <td>1962.8</td>\n",
       "    </tr>\n",
       "    <tr>\n",
       "      <th>180.0</th>\n",
       "      <td>10.0</td>\n",
       "      <td>135.6</td>\n",
       "      <td>0.6</td>\n",
       "      <td>134.2</td>\n",
       "      <td>135.3</td>\n",
       "      <td>135.8</td>\n",
       "      <td>136.0</td>\n",
       "      <td>136.2</td>\n",
       "      <td>10.0</td>\n",
       "      <td>1848.3</td>\n",
       "      <td>6.8</td>\n",
       "      <td>1840.3</td>\n",
       "      <td>1844.5</td>\n",
       "      <td>1847.0</td>\n",
       "      <td>1849.9</td>\n",
       "      <td>1861.3</td>\n",
       "    </tr>\n",
       "    <tr>\n",
       "      <th>90.0</th>\n",
       "      <td>10.0</td>\n",
       "      <td>132.8</td>\n",
       "      <td>0.7</td>\n",
       "      <td>131.4</td>\n",
       "      <td>132.5</td>\n",
       "      <td>133.1</td>\n",
       "      <td>133.2</td>\n",
       "      <td>133.9</td>\n",
       "      <td>10.0</td>\n",
       "      <td>1887.7</td>\n",
       "      <td>9.1</td>\n",
       "      <td>1872.8</td>\n",
       "      <td>1882.0</td>\n",
       "      <td>1887.2</td>\n",
       "      <td>1892.4</td>\n",
       "      <td>1902.5</td>\n",
       "    </tr>\n",
       "  </tbody>\n",
       "</table>\n",
       "</div>"
      ],
      "text/plain": [
       "          actual_distance                                                 \\\n",
       "                    count   mean  std    min    25%    50%    75%    max   \n",
       "direction                                                                  \n",
       "-90.0                10.0  134.0  0.3  133.6  133.9  134.0  134.1  134.8   \n",
       "0.0                  10.0  128.8  1.0  127.2  128.0  129.2  129.5  130.0   \n",
       "180.0                10.0  135.6  0.6  134.2  135.3  135.8  136.0  136.2   \n",
       "90.0                 10.0  132.8  0.7  131.4  132.5  133.1  133.2  133.9   \n",
       "\n",
       "            tpi                                                        \n",
       "          count    mean   std     min     25%     50%     75%     max  \n",
       "direction                                                              \n",
       "-90.0      10.0  1868.5   5.8  1861.4  1864.3  1867.7  1873.5  1877.2  \n",
       "0.0        10.0  1944.6  12.1  1930.0  1935.3  1940.7  1954.9  1962.8  \n",
       "180.0      10.0  1848.3   6.8  1840.3  1844.5  1847.0  1849.9  1861.3  \n",
       "90.0       10.0  1887.7   9.1  1872.8  1882.0  1887.2  1892.4  1902.5  "
      ]
     },
     "execution_count": 3,
     "metadata": {},
     "output_type": "execute_result"
    }
   ],
   "source": [
    "pivot = activity_data.pivot(index='id', columns='measure', values='value')\n",
    "activity = pd.merge(activity_meta, pivot, on='id')\n",
    "activity['tpi'] = activity['actual_ticks'] / activity['actual_distance']\n",
    "activity[['direction','actual_distance', 'tpi']].groupby('direction').describe().round(1)"
   ]
  },
  {
   "cell_type": "code",
   "execution_count": 4,
   "metadata": {},
   "outputs": [
    {
     "data": {
      "text/plain": [
       "<matplotlib.axes._subplots.AxesSubplot at 0x118deac18>"
      ]
     },
     "execution_count": 4,
     "metadata": {},
     "output_type": "execute_result"
    },
    {
     "data": {
      "image/png": "[encoded data removed]",
      "text/plain": [
       "<Figure size 792x576 with 1 Axes>"
      ]
     },
     "metadata": {
      "needs_background": "light"
     },
     "output_type": "display_data"
    }
   ],
   "source": [
    "activity.boxplot(column='tpi', by=['name', 'direction'], rot=15, figsize=(11, 8))"
   ]
  },
  {
   "cell_type": "markdown",
   "metadata": {},
   "source": [
    "## TPI Estimated Error by Direction\n",
    "A resonable choice for nominal TPI is either *forward* TPI or TPI *grand mean*. We'll assume the TPI nominal value is the grand mean of all TPI measurements.\n",
    "\n",
    "\\begin{equation*}\n",
    "error_{TPI} =  \\frac{TPI_{experimental} - TPI_{nominal}}{TPI_{nominal}} \\times 100\\%\n",
    "\\end{equation*}\n",
    "\n",
    "A positive error is more ticks per inch (conversely fewer inches per tick), therefore the robot travels less distance with postive error. The `100 in.` column below is how far we'd expect the robot to travel if we converted 100 in to ticks using the forward (0.0) TPI as our benchmark."
   ]
  },
  {
   "cell_type": "code",
   "execution_count": 5,
   "metadata": {},
   "outputs": [
    {
     "data": {
      "text/html": [
       "<div>\n",
       "<style scoped>\n",
       "    .dataframe tbody tr th:only-of-type {\n",
       "        vertical-align: middle;\n",
       "    }\n",
       "\n",
       "    .dataframe tbody tr th {\n",
       "        vertical-align: top;\n",
       "    }\n",
       "\n",
       "    .dataframe thead th {\n",
       "        text-align: right;\n",
       "    }\n",
       "</style>\n",
       "<table border=\"1\" class=\"dataframe\">\n",
       "  <thead>\n",
       "    <tr style=\"text-align: right;\">\n",
       "      <th></th>\n",
       "      <th>tpi</th>\n",
       "      <th>error</th>\n",
       "      <th>error (%)</th>\n",
       "      <th>100 in.</th>\n",
       "    </tr>\n",
       "    <tr>\n",
       "      <th>direction</th>\n",
       "      <th></th>\n",
       "      <th></th>\n",
       "      <th></th>\n",
       "      <th></th>\n",
       "    </tr>\n",
       "  </thead>\n",
       "  <tbody>\n",
       "    <tr>\n",
       "      <th>-90.0</th>\n",
       "      <td>1868.5</td>\n",
       "      <td>-0.010</td>\n",
       "      <td>-0.99%</td>\n",
       "      <td>104.07</td>\n",
       "    </tr>\n",
       "    <tr>\n",
       "      <th>0.0</th>\n",
       "      <td>1944.6</td>\n",
       "      <td>0.030</td>\n",
       "      <td>3.03%</td>\n",
       "      <td>100.00</td>\n",
       "    </tr>\n",
       "    <tr>\n",
       "      <th>180.0</th>\n",
       "      <td>1848.3</td>\n",
       "      <td>-0.021</td>\n",
       "      <td>-2.06%</td>\n",
       "      <td>105.21</td>\n",
       "    </tr>\n",
       "    <tr>\n",
       "      <th>90.0</th>\n",
       "      <td>1887.7</td>\n",
       "      <td>0.000</td>\n",
       "      <td>0.02%</td>\n",
       "      <td>103.01</td>\n",
       "    </tr>\n",
       "  </tbody>\n",
       "</table>\n",
       "</div>"
      ],
      "text/plain": [
       "              tpi  error error (%)  100 in.\n",
       "direction                                  \n",
       "-90.0      1868.5 -0.010    -0.99%   104.07\n",
       "0.0        1944.6  0.030     3.03%   100.00\n",
       "180.0      1848.3 -0.021    -2.06%   105.21\n",
       "90.0       1887.7  0.000     0.02%   103.01"
      ]
     },
     "execution_count": 5,
     "metadata": {},
     "output_type": "execute_result"
    }
   ],
   "source": [
    "tpi_grand_mean = activity['tpi'].mean()\n",
    "tpi_error = activity[['direction', 'tpi']].groupby('direction').mean()\n",
    "tpi_error['error'] = (tpi_error['tpi'] - tpi_grand_mean) / tpi_grand_mean\n",
    "tpi_error['error (%)'] = pd.Series([\"{0:.2f}%\".format(val * 100) for val in tpi_error['error']], index = tpi_error.index)\n",
    "\n",
    "ticks_100_in = tpi_error.loc['0.0','tpi'] * 100 # ticks to travel 100in using 0.0 TPI\n",
    "tpi_error['100 in.'] = ticks_100_in / tpi_error['tpi']\n",
    "tpi_error = tpi_error.round({'tpi':1, 'error': 3, '100 in.': 2})\n",
    "tpi_error"
   ]
  },
  {
   "cell_type": "markdown",
   "metadata": {},
   "source": [
    "## Notes\n",
    "\n",
    "The data for `activity_meta` can be reconstructed from the datebase with this query:\n",
    "    \n",
    "```sql\n",
    "SELECT id, name, timestamp, meta->'direction' AS direction\n",
    "FROM tc_activity\n",
    "WHERE timestamp::date = date '2018-10-02' AND data[3] <> 0\n",
    "```\n",
    "\n",
    "The data for `activity_data` can be reconstructed from the datebase with this query:\n",
    "\n",
    "```sql\n",
    "SELECT id, name, timestamp, measure, value\n",
    "FROM tc_activity, unnest(activity_measures, data) AS u(measure, value)\n",
    "WHERE timestamp::date = date '2018-10-02' AND data[3] <> 0\n",
    "```"
   ]
  },
  {
   "cell_type": "code",
   "execution_count": null,
   "metadata": {},
   "outputs": [],
   "source": []
  }
 ],
 "metadata": {
  "kernelspec": {
   "display_name": "Python 3",
   "language": "python",
   "name": "python3"
  },
  "language_info": {
   "codemirror_mode": {
    "name": "ipython",
    "version": 3
   },
   "file_extension": ".py",
   "mimetype": "text/x-python",
   "name": "python",
   "nbconvert_exporter": "python",
   "pygments_lexer": "ipython3",
   "version": "3.7.1"
  }
 },
 "nbformat": 4,
 "nbformat_minor": 2
}
