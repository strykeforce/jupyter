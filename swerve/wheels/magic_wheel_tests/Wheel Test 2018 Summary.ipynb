{
 "cells": [
  {
   "cell_type": "markdown",
   "metadata": {},
   "source": [
    "# Wheel Test 2018 Summary\n",
    "\n",
    "Summary plot of colson wheels on skippy vs. new/worn magic wheels on Jif. See other notebooks in this folder for per-test details."
   ]
  },
  {
   "cell_type": "code",
   "execution_count": 10,
   "metadata": {},
   "outputs": [],
   "source": [
    "%matplotlib inline\n",
    "import pandas as pd\n",
    "import matplotlib.pyplot as plt"
   ]
  },
  {
   "cell_type": "code",
   "execution_count": 4,
   "metadata": {},
   "outputs": [],
   "source": [
    "date = '2018-09-10'\n",
    "activity_meta_colson = pd.read_pickle(\"data/meta-%s.pkl.gz\" % date)\n",
    "activity_data_colson = pd.read_pickle(\"data/data-%s.pkl.gz\" % date)\n",
    "\n",
    "date = '2018-09-25'\n",
    "activity_meta_magic_new = pd.read_pickle(\"data/meta-%s.pkl.gz\" % date)\n",
    "activity_data_magic_new = pd.read_pickle(\"data/data-%s.pkl.gz\" % date)\n",
    "\n",
    "date = '2018-09-27'\n",
    "activity_meta_magic_used = pd.read_pickle(\"data/meta-%s.pkl.gz\" % date)\n",
    "activity_data_magic_used = pd.read_pickle(\"data/data-%s.pkl.gz\" % date)"
   ]
  },
  {
   "cell_type": "markdown",
   "metadata": {},
   "source": [
    "## TPI Grouped by Direction\n",
    "Select and pivot summary data for an activity."
   ]
  },
  {
   "cell_type": "code",
   "execution_count": 8,
   "metadata": {},
   "outputs": [],
   "source": [
    "pivot = activity_data_colson.pivot(index='id', columns='measure', values='value')\n",
    "activity_colson = pd.merge(activity_meta_colson, pivot, on='id')\n",
    "activity_colson['tpi'] = activity_colson['actual_ticks'] / activity_colson['actual_distance']\n",
    "\n",
    "pivot = activity_data_magic_new.pivot(index='id', columns='measure', values='value')\n",
    "activity_magic_new = pd.merge(activity_meta_magic_new, pivot, on='id')\n",
    "activity_magic_new['tpi'] = activity_magic_new['actual_ticks'] / activity_magic_new['actual_distance']\n",
    "\n",
    "pivot = activity_data_magic_used.pivot(index='id', columns='measure', values='value')\n",
    "activity_magic_used = pd.merge(activity_meta_magic_used, pivot, on='id')\n",
    "activity_magic_used['tpi'] = activity_magic_used['actual_ticks'] / activity_magic_used['actual_distance']"
   ]
  },
  {
   "cell_type": "code",
   "execution_count": 25,
   "metadata": {},
   "outputs": [
    {
     "data": {
      "text/plain": [
       "Text(0.5, 0.98, 'ticks/in by wheel type')"
      ]
     },
     "execution_count": 25,
     "metadata": {},
     "output_type": "execute_result"
    },
    {
     "data": {
      "image/png": "[encoded data removed]",
      "text/plain": [
       "<Figure size 1080x576 with 3 Axes>"
      ]
     },
     "metadata": {
      "needs_background": "light"
     },
     "output_type": "display_data"
    }
   ],
   "source": [
    "fig, ax = plt.subplots(nrows=1, ncols=3,sharey=True)\n",
    "fig.set_size_inches(15, 8)\n",
    "activity_colson.boxplot(column='tpi', by=['direction'], ax=ax[0])\n",
    "activity_magic_new.boxplot(column='tpi', by=['direction'], ax=ax[1])\n",
    "activity_magic_used.boxplot(column='tpi', by=['direction'], ax=ax[2])\n",
    "ax[0].set_title(\"Colson\")\n",
    "ax[1].set_title(\"Magic - new\")\n",
    "ax[2].set_title(\"Magic - worn\")\n",
    "fig.suptitle(\"ticks/in by wheel type\")"
   ]
  },
  {
   "cell_type": "code",
   "execution_count": null,
   "metadata": {},
   "outputs": [],
   "source": []
  }
 ],
 "metadata": {
  "kernelspec": {
   "display_name": "Python 3",
   "language": "python",
   "name": "python3"
  },
  "language_info": {
   "codemirror_mode": {
    "name": "ipython",
    "version": 3
   },
   "file_extension": ".py",
   "mimetype": "text/x-python",
   "name": "python",
   "nbconvert_exporter": "python",
   "pygments_lexer": "ipython3",
   "version": "3.7.1"
  }
 },
 "nbformat": 4,
 "nbformat_minor": 2
}
