{
 "cells": [
  {
   "cell_type": "markdown",
   "metadata": {},
   "source": [
    "# Swerve Drive Auton Distance Calibration\n",
    "\n",
    "27 Jan 2018\n",
    "\n",
    "During 2018 POWER UP auton developement, Stryke Force students conducted an experiment to determine the effect of compliance and/or traction at the wheel to surface interface on effective wheel circumference.\n",
    "\n",
    "One inch of travel along the circumference of a wheel will subtend a larger angle (represented by encoder ticks) when the effective radius is smaller. This would lead us to expect larger ticks/inch for more compliant surfaces.\n",
    "\n",
    "The nominal tick/in from axis setup Excel is 1983.65 ticks/in.\n",
    "\n",
    "## Protocol\n",
    "\n",
    "### Surfaces Tested\n",
    "\n",
    "   - Carpet, north to south\n",
    "   - Carpet, east to west\n",
    "   - Hard concrete, floor next to field\n",
    "\n",
    "### Procedure\n",
    "\n",
    "Runs are made in the same direction, with the same starting point.\n",
    "\n",
    "1. Open the Grapher program, select **Selected Sensor Position** to measure encoder on each drive motor\n",
    "2. Place all four motor variables on the same y-axis in the Grapher\n",
    "3. Place the robot in a known position with an appropriate space in front of it (against a wall/barrier, something that won't move)\n",
    "4. Ensure the robot drives straight\n",
    "5. Record the initial Selective Sensor Position in a column spreadsheet program for each motor (WARNING: Make sure the Grapher can display the appropriate number of digits in the text boxes containing the Selective Sensor Position.  You may have to zero-out the encoder and/or reduce displacement in trials to ensure they fit on the display)\n",
    "6. Select an appropriate duration and velocity for the robot, then (respecting safety procedures) allow the robot to move forward as such\n",
    "7. Record the final Selective Sensor Position in a different set of columns in the spreadsheet for each motor.  DO NOT MOVE THE ROBOT UNTIL VALUES ARE TAKEN/FROZEN IN GRAPHER\n",
    "8. Mark the position of the robot on the floor (we used tape) such that the marker represents the distance traveled by the robot\n",
    "9. Measure the distance traveled by the robot (we measured in inches, you may want to use metric to facilitate entering it into the spreadsheet).\n",
    "10. Record in spreadsheet"
   ]
  },
  {
   "cell_type": "code",
   "execution_count": 1,
   "metadata": {},
   "outputs": [],
   "source": [
    "import pandas as pd\n",
    "import matplotlib.pyplot as plt\n",
    "%matplotlib inline"
   ]
  },
  {
   "cell_type": "code",
   "execution_count": 2,
   "metadata": {},
   "outputs": [],
   "source": [
    "df = pd.read_csv(\"data/pathfinder_calibration/180127_distance.csv\")\n",
    "df['ticks_per_in'] = (df['end'] - df['start']) / df['distance']"
   ]
  },
  {
   "cell_type": "markdown",
   "metadata": {},
   "source": [
    "## Results\n",
    "### Overall"
   ]
  },
  {
   "cell_type": "code",
   "execution_count": 3,
   "metadata": {},
   "outputs": [
    {
     "data": {
      "text/plain": [
       "count      52.000000\n",
       "mean     1868.198741\n",
       "std        41.198783\n",
       "min      1815.682443\n",
       "25%      1843.572554\n",
       "50%      1851.896879\n",
       "75%      1911.574292\n",
       "max      1946.806671\n",
       "Name: ticks_per_in, dtype: float64"
      ]
     },
     "execution_count": 3,
     "metadata": {},
     "output_type": "execute_result"
    }
   ],
   "source": [
    "df['ticks_per_in'].describe()"
   ]
  },
  {
   "cell_type": "markdown",
   "metadata": {},
   "source": [
    "### ticks/inch by surface\n",
    "\n",
    "- `carpet-x` = carpet, west to east on northwest end of practice field\n",
    "- `carpet-y` = carpet, north to south on northwest end of practice field\n",
    "- `concrete` = west to east on floor south of practice field"
   ]
  },
  {
   "cell_type": "code",
   "execution_count": 4,
   "metadata": {
    "scrolled": false
   },
   "outputs": [
    {
     "data": {
      "text/plain": [
       "<matplotlib.axes._subplots.AxesSubplot at 0x118ba82e8>"
      ]
     },
     "execution_count": 4,
     "metadata": {},
     "output_type": "execute_result"
    },
    {
     "data": {
      "image/png": "[encoded data removed]",
      "text/plain": [
       "<Figure size 432x288 with 1 Axes>"
      ]
     },
     "metadata": {
      "needs_background": "light"
     },
     "output_type": "display_data"
    }
   ],
   "source": [
    "df.loc[:, ['surface', 'ticks_per_in']].pivot(columns='surface', values='ticks_per_in').boxplot()"
   ]
  },
  {
   "cell_type": "code",
   "execution_count": 5,
   "metadata": {},
   "outputs": [
    {
     "data": {
      "text/html": [
       "<div>\n",
       "<style scoped>\n",
       "    .dataframe tbody tr th:only-of-type {\n",
       "        vertical-align: middle;\n",
       "    }\n",
       "\n",
       "    .dataframe tbody tr th {\n",
       "        vertical-align: top;\n",
       "    }\n",
       "\n",
       "    .dataframe thead th {\n",
       "        text-align: right;\n",
       "    }\n",
       "</style>\n",
       "<table border=\"1\" class=\"dataframe\">\n",
       "  <thead>\n",
       "    <tr style=\"text-align: right;\">\n",
       "      <th>surface</th>\n",
       "      <th>carpet-x</th>\n",
       "      <th>carpet-y</th>\n",
       "      <th>concrete</th>\n",
       "    </tr>\n",
       "  </thead>\n",
       "  <tbody>\n",
       "    <tr>\n",
       "      <th>count</th>\n",
       "      <td>20.000000</td>\n",
       "      <td>16.000000</td>\n",
       "      <td>16.000000</td>\n",
       "    </tr>\n",
       "    <tr>\n",
       "      <th>mean</th>\n",
       "      <td>1835.856416</td>\n",
       "      <td>1926.040203</td>\n",
       "      <td>1850.785187</td>\n",
       "    </tr>\n",
       "    <tr>\n",
       "      <th>std</th>\n",
       "      <td>13.367131</td>\n",
       "      <td>15.335982</td>\n",
       "      <td>4.754852</td>\n",
       "    </tr>\n",
       "    <tr>\n",
       "      <th>min</th>\n",
       "      <td>1815.682443</td>\n",
       "      <td>1909.833230</td>\n",
       "      <td>1842.396413</td>\n",
       "    </tr>\n",
       "    <tr>\n",
       "      <th>25%</th>\n",
       "      <td>1824.102210</td>\n",
       "      <td>1911.686299</td>\n",
       "      <td>1846.639625</td>\n",
       "    </tr>\n",
       "    <tr>\n",
       "      <th>50%</th>\n",
       "      <td>1836.236780</td>\n",
       "      <td>1921.415224</td>\n",
       "      <td>1851.896879</td>\n",
       "    </tr>\n",
       "    <tr>\n",
       "      <th>75%</th>\n",
       "      <td>1849.252916</td>\n",
       "      <td>1941.875921</td>\n",
       "      <td>1854.864040</td>\n",
       "    </tr>\n",
       "    <tr>\n",
       "      <th>max</th>\n",
       "      <td>1853.863081</td>\n",
       "      <td>1946.806671</td>\n",
       "      <td>1856.430493</td>\n",
       "    </tr>\n",
       "  </tbody>\n",
       "</table>\n",
       "</div>"
      ],
      "text/plain": [
       "surface     carpet-x     carpet-y     concrete\n",
       "count      20.000000    16.000000    16.000000\n",
       "mean     1835.856416  1926.040203  1850.785187\n",
       "std        13.367131    15.335982     4.754852\n",
       "min      1815.682443  1909.833230  1842.396413\n",
       "25%      1824.102210  1911.686299  1846.639625\n",
       "50%      1836.236780  1921.415224  1851.896879\n",
       "75%      1849.252916  1941.875921  1854.864040\n",
       "max      1853.863081  1946.806671  1856.430493"
      ]
     },
     "execution_count": 5,
     "metadata": {},
     "output_type": "execute_result"
    }
   ],
   "source": [
    "df.loc[:, ['surface', 'ticks_per_in']].pivot(columns='surface', values='ticks_per_in').describe()"
   ]
  },
  {
   "cell_type": "code",
   "execution_count": 6,
   "metadata": {},
   "outputs": [
    {
     "data": {
      "text/plain": [
       "Text(0.5, 1.0, 'Concrete')"
      ]
     },
     "execution_count": 6,
     "metadata": {},
     "output_type": "execute_result"
    },
    {
     "data": {
      "image/png": "[encoded data removed]",
      "text/plain": [
       "<Figure size 864x432 with 3 Axes>"
      ]
     },
     "metadata": {
      "needs_background": "light"
     },
     "output_type": "display_data"
    }
   ],
   "source": [
    "fig, ax = plt.subplots(nrows=1, ncols=3,sharey=True)\n",
    "fig.set_size_inches(12, 6)\n",
    "fig.suptitle(\"ticks/in by encoder\")\n",
    "df.loc[df['surface'] == 'carpet-x', ['encoder', 'ticks_per_in']].pivot(columns='encoder', values='ticks_per_in').boxplot(ax=ax[0])\n",
    "ax[0].set_title(\"W-E Carpet\")\n",
    "df.loc[df['surface'] == 'carpet-y', ['encoder', 'ticks_per_in']].pivot(columns='encoder', values='ticks_per_in').boxplot(ax=ax[1])\n",
    "ax[1].set_title(\"N-S Carpet\")\n",
    "df.loc[df['surface'] == 'concrete', ['encoder', 'ticks_per_in']].pivot(columns='encoder', values='ticks_per_in').boxplot(ax=ax[2])\n",
    "ax[2].set_title(\"Concrete\")"
   ]
  },
  {
   "cell_type": "markdown",
   "metadata": {},
   "source": [
    "### ticks/inch on carpet from west to east (`carpet-x`), by encoder"
   ]
  },
  {
   "cell_type": "code",
   "execution_count": 7,
   "metadata": {},
   "outputs": [
    {
     "data": {
      "text/plain": [
       "<matplotlib.axes._subplots.AxesSubplot at 0x11afd3358>"
      ]
     },
     "execution_count": 7,
     "metadata": {},
     "output_type": "execute_result"
    },
    {
     "data": {
      "image/png": "[encoded data removed]",
      "text/plain": [
       "<Figure size 432x288 with 1 Axes>"
      ]
     },
     "metadata": {
      "needs_background": "light"
     },
     "output_type": "display_data"
    }
   ],
   "source": [
    "df.loc[df['surface'] == 'carpet-x', ['encoder', 'ticks_per_in']].pivot(columns='encoder', values='ticks_per_in').boxplot()"
   ]
  },
  {
   "cell_type": "code",
   "execution_count": 8,
   "metadata": {},
   "outputs": [
    {
     "data": {
      "text/html": [
       "<div>\n",
       "<style scoped>\n",
       "    .dataframe tbody tr th:only-of-type {\n",
       "        vertical-align: middle;\n",
       "    }\n",
       "\n",
       "    .dataframe tbody tr th {\n",
       "        vertical-align: top;\n",
       "    }\n",
       "\n",
       "    .dataframe thead th {\n",
       "        text-align: right;\n",
       "    }\n",
       "</style>\n",
       "<table border=\"1\" class=\"dataframe\">\n",
       "  <thead>\n",
       "    <tr style=\"text-align: right;\">\n",
       "      <th>encoder</th>\n",
       "      <th>0</th>\n",
       "      <th>1</th>\n",
       "      <th>2</th>\n",
       "      <th>3</th>\n",
       "    </tr>\n",
       "  </thead>\n",
       "  <tbody>\n",
       "    <tr>\n",
       "      <th>count</th>\n",
       "      <td>5.000000</td>\n",
       "      <td>5.000000</td>\n",
       "      <td>5.000000</td>\n",
       "      <td>5.000000</td>\n",
       "    </tr>\n",
       "    <tr>\n",
       "      <th>mean</th>\n",
       "      <td>1820.603509</td>\n",
       "      <td>1845.913267</td>\n",
       "      <td>1827.125704</td>\n",
       "      <td>1849.783183</td>\n",
       "    </tr>\n",
       "    <tr>\n",
       "      <th>std</th>\n",
       "      <td>4.339524</td>\n",
       "      <td>4.961973</td>\n",
       "      <td>4.658048</td>\n",
       "      <td>5.349425</td>\n",
       "    </tr>\n",
       "    <tr>\n",
       "      <th>min</th>\n",
       "      <td>1815.682443</td>\n",
       "      <td>1837.701657</td>\n",
       "      <td>1823.425954</td>\n",
       "      <td>1840.732439</td>\n",
       "    </tr>\n",
       "    <tr>\n",
       "      <th>25%</th>\n",
       "      <td>1817.762836</td>\n",
       "      <td>1844.948580</td>\n",
       "      <td>1824.327628</td>\n",
       "      <td>1849.897160</td>\n",
       "    </tr>\n",
       "    <tr>\n",
       "      <th>50%</th>\n",
       "      <td>1819.812740</td>\n",
       "      <td>1847.926829</td>\n",
       "      <td>1824.798158</td>\n",
       "      <td>1850.780488</td>\n",
       "    </tr>\n",
       "    <tr>\n",
       "      <th>75%</th>\n",
       "      <td>1823.170732</td>\n",
       "      <td>1849.038168</td>\n",
       "      <td>1828.304878</td>\n",
       "      <td>1853.642748</td>\n",
       "    </tr>\n",
       "    <tr>\n",
       "      <th>max</th>\n",
       "      <td>1826.588792</td>\n",
       "      <td>1849.951100</td>\n",
       "      <td>1834.771902</td>\n",
       "      <td>1853.863081</td>\n",
       "    </tr>\n",
       "  </tbody>\n",
       "</table>\n",
       "</div>"
      ],
      "text/plain": [
       "encoder            0            1            2            3\n",
       "count       5.000000     5.000000     5.000000     5.000000\n",
       "mean     1820.603509  1845.913267  1827.125704  1849.783183\n",
       "std         4.339524     4.961973     4.658048     5.349425\n",
       "min      1815.682443  1837.701657  1823.425954  1840.732439\n",
       "25%      1817.762836  1844.948580  1824.327628  1849.897160\n",
       "50%      1819.812740  1847.926829  1824.798158  1850.780488\n",
       "75%      1823.170732  1849.038168  1828.304878  1853.642748\n",
       "max      1826.588792  1849.951100  1834.771902  1853.863081"
      ]
     },
     "execution_count": 8,
     "metadata": {},
     "output_type": "execute_result"
    }
   ],
   "source": [
    "df.loc[df['surface'] == 'carpet-x', ['encoder', 'ticks_per_in']].pivot(columns='encoder', values='ticks_per_in').describe()"
   ]
  },
  {
   "cell_type": "markdown",
   "metadata": {},
   "source": [
    "### ticks/inch on carpet from north to south carpet (`carpet-y`), by encoder"
   ]
  },
  {
   "cell_type": "code",
   "execution_count": 9,
   "metadata": {},
   "outputs": [
    {
     "data": {
      "text/plain": [
       "<matplotlib.axes._subplots.AxesSubplot at 0x11b09d208>"
      ]
     },
     "execution_count": 9,
     "metadata": {},
     "output_type": "execute_result"
    },
    {
     "data": {
      "image/png": "[encoded data removed]",
      "text/plain": [
       "<Figure size 432x288 with 1 Axes>"
      ]
     },
     "metadata": {
      "needs_background": "light"
     },
     "output_type": "display_data"
    }
   ],
   "source": [
    "df.loc[df['surface'] == 'carpet-y', ['encoder', 'ticks_per_in']].pivot(columns='encoder', values='ticks_per_in').boxplot()"
   ]
  },
  {
   "cell_type": "code",
   "execution_count": 10,
   "metadata": {},
   "outputs": [
    {
     "data": {
      "text/html": [
       "<div>\n",
       "<style scoped>\n",
       "    .dataframe tbody tr th:only-of-type {\n",
       "        vertical-align: middle;\n",
       "    }\n",
       "\n",
       "    .dataframe tbody tr th {\n",
       "        vertical-align: top;\n",
       "    }\n",
       "\n",
       "    .dataframe thead th {\n",
       "        text-align: right;\n",
       "    }\n",
       "</style>\n",
       "<table border=\"1\" class=\"dataframe\">\n",
       "  <thead>\n",
       "    <tr style=\"text-align: right;\">\n",
       "      <th>encoder</th>\n",
       "      <th>0</th>\n",
       "      <th>1</th>\n",
       "      <th>2</th>\n",
       "      <th>3</th>\n",
       "    </tr>\n",
       "  </thead>\n",
       "  <tbody>\n",
       "    <tr>\n",
       "      <th>count</th>\n",
       "      <td>4.000000</td>\n",
       "      <td>4.000000</td>\n",
       "      <td>4.000000</td>\n",
       "      <td>4.000000</td>\n",
       "    </tr>\n",
       "    <tr>\n",
       "      <th>mean</th>\n",
       "      <td>1938.144860</td>\n",
       "      <td>1911.611420</td>\n",
       "      <td>1942.429496</td>\n",
       "      <td>1911.975036</td>\n",
       "    </tr>\n",
       "    <tr>\n",
       "      <th>std</th>\n",
       "      <td>6.998338</td>\n",
       "      <td>1.155924</td>\n",
       "      <td>5.250674</td>\n",
       "      <td>1.792218</td>\n",
       "    </tr>\n",
       "    <tr>\n",
       "      <th>min</th>\n",
       "      <td>1928.653295</td>\n",
       "      <td>1910.179123</td>\n",
       "      <td>1935.280927</td>\n",
       "      <td>1909.833230</td>\n",
       "    </tr>\n",
       "    <tr>\n",
       "      <th>25%</th>\n",
       "      <td>1935.107768</td>\n",
       "      <td>1911.211447</td>\n",
       "      <td>1940.125787</td>\n",
       "      <td>1911.181184</td>\n",
       "    </tr>\n",
       "    <tr>\n",
       "      <th>50%</th>\n",
       "      <td>1939.770361</td>\n",
       "      <td>1911.630227</td>\n",
       "      <td>1943.815194</td>\n",
       "      <td>1911.944881</td>\n",
       "    </tr>\n",
       "    <tr>\n",
       "      <th>75%</th>\n",
       "      <td>1942.807453</td>\n",
       "      <td>1912.030199</td>\n",
       "      <td>1946.118903</td>\n",
       "      <td>1912.738732</td>\n",
       "    </tr>\n",
       "    <tr>\n",
       "      <th>max</th>\n",
       "      <td>1944.385423</td>\n",
       "      <td>1913.006104</td>\n",
       "      <td>1946.806671</td>\n",
       "      <td>1914.177152</td>\n",
       "    </tr>\n",
       "  </tbody>\n",
       "</table>\n",
       "</div>"
      ],
      "text/plain": [
       "encoder            0            1            2            3\n",
       "count       4.000000     4.000000     4.000000     4.000000\n",
       "mean     1938.144860  1911.611420  1942.429496  1911.975036\n",
       "std         6.998338     1.155924     5.250674     1.792218\n",
       "min      1928.653295  1910.179123  1935.280927  1909.833230\n",
       "25%      1935.107768  1911.211447  1940.125787  1911.181184\n",
       "50%      1939.770361  1911.630227  1943.815194  1911.944881\n",
       "75%      1942.807453  1912.030199  1946.118903  1912.738732\n",
       "max      1944.385423  1913.006104  1946.806671  1914.177152"
      ]
     },
     "execution_count": 10,
     "metadata": {},
     "output_type": "execute_result"
    }
   ],
   "source": [
    "df.loc[df['surface'] == 'carpet-y', ['encoder', 'ticks_per_in']].pivot(columns='encoder', values='ticks_per_in').describe()"
   ]
  },
  {
   "cell_type": "markdown",
   "metadata": {},
   "source": [
    "### ticks/inch on concrete (`concrete`), by encoder"
   ]
  },
  {
   "cell_type": "code",
   "execution_count": 11,
   "metadata": {},
   "outputs": [
    {
     "data": {
      "text/plain": [
       "<matplotlib.axes._subplots.AxesSubplot at 0x11b1984a8>"
      ]
     },
     "execution_count": 11,
     "metadata": {},
     "output_type": "execute_result"
    },
    {
     "data": {
      "image/png": "[encoded data removed]",
      "text/plain": [
       "<Figure size 432x288 with 1 Axes>"
      ]
     },
     "metadata": {
      "needs_background": "light"
     },
     "output_type": "display_data"
    }
   ],
   "source": [
    "df.loc[df['surface'] == 'concrete', ['encoder', 'ticks_per_in']].pivot(columns='encoder', values='ticks_per_in').boxplot()"
   ]
  },
  {
   "cell_type": "code",
   "execution_count": 12,
   "metadata": {},
   "outputs": [
    {
     "data": {
      "text/html": [
       "<div>\n",
       "<style scoped>\n",
       "    .dataframe tbody tr th:only-of-type {\n",
       "        vertical-align: middle;\n",
       "    }\n",
       "\n",
       "    .dataframe tbody tr th {\n",
       "        vertical-align: top;\n",
       "    }\n",
       "\n",
       "    .dataframe thead th {\n",
       "        text-align: right;\n",
       "    }\n",
       "</style>\n",
       "<table border=\"1\" class=\"dataframe\">\n",
       "  <thead>\n",
       "    <tr style=\"text-align: right;\">\n",
       "      <th>encoder</th>\n",
       "      <th>0</th>\n",
       "      <th>1</th>\n",
       "      <th>2</th>\n",
       "      <th>3</th>\n",
       "    </tr>\n",
       "  </thead>\n",
       "  <tbody>\n",
       "    <tr>\n",
       "      <th>count</th>\n",
       "      <td>4.000000</td>\n",
       "      <td>4.000000</td>\n",
       "      <td>4.000000</td>\n",
       "      <td>4.000000</td>\n",
       "    </tr>\n",
       "    <tr>\n",
       "      <th>mean</th>\n",
       "      <td>1854.709093</td>\n",
       "      <td>1844.151536</td>\n",
       "      <td>1854.859578</td>\n",
       "      <td>1849.420539</td>\n",
       "    </tr>\n",
       "    <tr>\n",
       "      <th>std</th>\n",
       "      <td>1.369316</td>\n",
       "      <td>1.337576</td>\n",
       "      <td>1.418022</td>\n",
       "      <td>1.883548</td>\n",
       "    </tr>\n",
       "    <tr>\n",
       "      <th>min</th>\n",
       "      <td>1852.830393</td>\n",
       "      <td>1842.396413</td>\n",
       "      <td>1853.134328</td>\n",
       "      <td>1847.002691</td>\n",
       "    </tr>\n",
       "    <tr>\n",
       "      <th>25%</th>\n",
       "      <td>1854.283705</td>\n",
       "      <td>1843.572554</td>\n",
       "      <td>1854.083582</td>\n",
       "      <td>1848.387841</td>\n",
       "    </tr>\n",
       "    <tr>\n",
       "      <th>50%</th>\n",
       "      <td>1854.959939</td>\n",
       "      <td>1844.329650</td>\n",
       "      <td>1854.936746</td>\n",
       "      <td>1849.858051</td>\n",
       "    </tr>\n",
       "    <tr>\n",
       "      <th>75%</th>\n",
       "      <td>1855.385327</td>\n",
       "      <td>1844.908631</td>\n",
       "      <td>1855.712742</td>\n",
       "      <td>1850.890750</td>\n",
       "    </tr>\n",
       "    <tr>\n",
       "      <th>max</th>\n",
       "      <td>1856.086099</td>\n",
       "      <td>1845.550430</td>\n",
       "      <td>1856.430493</td>\n",
       "      <td>1850.963365</td>\n",
       "    </tr>\n",
       "  </tbody>\n",
       "</table>\n",
       "</div>"
      ],
      "text/plain": [
       "encoder            0            1            2            3\n",
       "count       4.000000     4.000000     4.000000     4.000000\n",
       "mean     1854.709093  1844.151536  1854.859578  1849.420539\n",
       "std         1.369316     1.337576     1.418022     1.883548\n",
       "min      1852.830393  1842.396413  1853.134328  1847.002691\n",
       "25%      1854.283705  1843.572554  1854.083582  1848.387841\n",
       "50%      1854.959939  1844.329650  1854.936746  1849.858051\n",
       "75%      1855.385327  1844.908631  1855.712742  1850.890750\n",
       "max      1856.086099  1845.550430  1856.430493  1850.963365"
      ]
     },
     "execution_count": 12,
     "metadata": {},
     "output_type": "execute_result"
    }
   ],
   "source": [
    "df.loc[df['surface'] == 'concrete', ['encoder', 'ticks_per_in']].pivot(columns='encoder', values='ticks_per_in').describe()"
   ]
  },
  {
   "cell_type": "code",
   "execution_count": null,
   "metadata": {},
   "outputs": [],
   "source": []
  },
  {
   "cell_type": "code",
   "execution_count": null,
   "metadata": {},
   "outputs": [],
   "source": []
  }
 ],
 "metadata": {
  "kernelspec": {
   "display_name": "Python 3",
   "language": "python",
   "name": "python3"
  },
  "language_info": {
   "codemirror_mode": {
    "name": "ipython",
    "version": 3
   },
   "file_extension": ".py",
   "mimetype": "text/x-python",
   "name": "python",
   "nbconvert_exporter": "python",
   "pygments_lexer": "ipython3",
   "version": "3.7.1"
  }
 },
 "nbformat": 4,
 "nbformat_minor": 2
}
