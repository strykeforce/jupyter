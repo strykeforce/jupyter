{
 "cells": [
  {
   "cell_type": "markdown",
   "metadata": {},
   "source": [
    "# Stryke Force Jupyter Hub\n",
    "\n",
    "## Table of Contents\n",
    "These notebooks are read-only but can be copied into your directory.\n",
    "\n",
    "\n",
    "### Pathfinder\n",
    "\n",
    "- [Pathfinder 1.0 Visualization](pathfinder/v1/pathfinder.ipynb)\n",
    "- [Pathfinder 1.0 Swerve Path Visualization](pathfinder/v1/pathfinder_swerve.ipynb)\n",
    "- [2018 POWER UP Autons Pathfinder](pathfinder/2018_auton)\n",
    "\n",
    "### Robot Controls\n",
    "\n",
    "- [Joystick Transfer Functions](controls/joystick_transfer_functions.ipynb) - algorithms for joystick transfer functions used to transform joystick operator input to the system demand signal.\n",
    "\n",
    "### Sensors\n",
    "\n",
    "- [Calculate LIDAR slope and offset correction](sensors/lidar/lidar_correction.ipynb)\n",
    "- [2018 POWER UP](sensors/lidar/lidar.ipynb) - Plotting reported vs. actual of the intake LIDAR.\n",
    "- [2018 LIDAR Assisted Carpet Calibration](sensors/lidar/lidar_carpet.ipynb)\n",
    "\n",
    "### Swerve Drive\n",
    "\n",
    "- [2018 POWER UP](swerve/wheels/powerup_wheel_tests/2018%20Carpet%20Test.ipynb) - conducted during auton development for the 2018 season.\n",
    "- [2018 Magic Wheels](swerve/wheels/magic_wheel_tests/) - conducted as port of our development of _magic_ wheels. There is a [summary report](swerve/wheels/magic_wheel_tests/Wheel%20Test%202018%20Summary.ipynb) of the results.\n",
    "\n",
    "### Vision\n",
    "\n",
    "- [HSV Colors](vision/HSV%20Colorspace.ipynb) - brief Hue, Saturation, Value colorspace explanation and color samples.\n",
    "- [Basic Image Arithmatic](vision/Basic%20Image%20Arithmetic.ipynb) - since each pixel in an image is represented by numbers we can use basic arithmetic such as addition and subtraction. Python makes this especially easy.\n",
    "- [Masking the Target](vision/Masking%20the%20Target.ipynb) - experiment with several ways to isolate, or mask, the target in a sample image.\n",
    "- [Hough Line Transform](vision/Hough%20Line%20Transform.ipynb) - experiment locating a target with a technique to detect any shape, if you can represent that shape in mathematical form.\n",
    "- [2016 STRONGHOLD Computer Vision & Targeting](vision/2016%20STRONGHOLD%20Computer%20Vision%20%26%20Targeting.ipynb) - outlines the techniques used for the Stryke Force 2016 computer vision and targetting system.\n"
   ]
  },
  {
   "cell_type": "code",
   "execution_count": null,
   "metadata": {},
   "outputs": [],
   "source": []
  }
 ],
 "metadata": {
  "kernelspec": {
   "display_name": "Python 3",
   "language": "python",
   "name": "python3"
  },
  "language_info": {
   "codemirror_mode": {
    "name": "ipython",
    "version": 3
   },
   "file_extension": ".py",
   "mimetype": "text/x-python",
   "name": "python",
   "nbconvert_exporter": "python",
   "pygments_lexer": "ipython3",
   "version": "3.6.5"
  }
 },
 "nbformat": 4,
 "nbformat_minor": 2
}
